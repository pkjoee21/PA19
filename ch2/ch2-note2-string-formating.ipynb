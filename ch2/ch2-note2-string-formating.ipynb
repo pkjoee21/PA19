{
 "metadata": {
  "language_info": {
   "codemirror_mode": {
    "name": "ipython",
    "version": 3
   },
   "file_extension": ".py",
   "mimetype": "text/x-python",
   "name": "python",
   "nbconvert_exporter": "python",
   "pygments_lexer": "ipython3",
   "version": "3.8.5-final"
  },
  "orig_nbformat": 2,
  "kernelspec": {
   "name": "python3",
   "display_name": "Python 3.8.5 64-bit (conda)",
   "metadata": {
    "interpreter": {
     "hash": "42588fd11209419b7c81abe23e31a1d2101f60811b02170c268e57ebb57d5d9a"
    }
   }
  }
 },
 "nbformat": 4,
 "nbformat_minor": 2,
 "cells": [
  {
   "source": [
    "# ch2-note2-string-formating.ipynb by PA19"
   ],
   "cell_type": "markdown",
   "metadata": {}
  },
  {
   "source": [
    "## 문자열: 포매팅이란?"
   ],
   "cell_type": "markdown",
   "metadata": {}
  },
  {
   "cell_type": "code",
   "execution_count": 1,
   "metadata": {},
   "outputs": [
    {
     "output_type": "execute_result",
     "data": {
      "text/plain": [
       "'I eat 3 apples.'"
      ]
     },
     "metadata": {},
     "execution_count": 1
    }
   ],
   "source": [
    "# 1. 숫자 바로 대입\n",
    "\"I eat %d apples.\" % 3"
   ]
  },
  {
   "cell_type": "code",
   "execution_count": 2,
   "metadata": {},
   "outputs": [
    {
     "output_type": "execute_result",
     "data": {
      "text/plain": [
       "'I eat five apples.'"
      ]
     },
     "metadata": {},
     "execution_count": 2
    }
   ],
   "source": [
    "# 2. 문자열 바로 대입\n",
    "\"I eat %s apples.\" % \"five\""
   ]
  },
  {
   "cell_type": "code",
   "execution_count": 3,
   "metadata": {},
   "outputs": [
    {
     "output_type": "execute_result",
     "data": {
      "text/plain": [
       "'I eat 3 apples.'"
      ]
     },
     "metadata": {},
     "execution_count": 3
    }
   ],
   "source": [
    "# 3. 숫자 값을 나타내는 변수로 대입\n",
    "number = 3\n",
    "\"I eat %d apples.\" % number"
   ]
  },
  {
   "cell_type": "code",
   "execution_count": 4,
   "metadata": {},
   "outputs": [
    {
     "output_type": "execute_result",
     "data": {
      "text/plain": [
       "'I ate 10 apples. so I was sick for three days.'"
      ]
     },
     "metadata": {},
     "execution_count": 4
    }
   ],
   "source": [
    "# 4. 2개 이상의 값 넣기\n",
    "number = 10\n",
    "day = \"three\"\n",
    "\"I ate %d apples. so I was sick for %s days.\" % (number, day)"
   ]
  },
  {
   "source": [
    "## 문자열: 포맷 코드"
   ],
   "cell_type": "markdown",
   "metadata": {}
  },
  {
   "cell_type": "code",
   "execution_count": 15,
   "metadata": {},
   "outputs": [
    {
     "output_type": "execute_result",
     "data": {
      "text/plain": [
       "'I have 3 apples'"
      ]
     },
     "metadata": {},
     "execution_count": 15
    }
   ],
   "source": [
    "# %d, %s, %c, %f, %o, %x, %%\n",
    "# %s, 묵시적 형변환\n",
    "\"I have %s apples\" % 3"
   ]
  },
  {
   "cell_type": "code",
   "execution_count": 16,
   "metadata": {},
   "outputs": [
    {
     "output_type": "execute_result",
     "data": {
      "text/plain": [
       "'rate is 3.234'"
      ]
     },
     "metadata": {},
     "execution_count": 16
    }
   ],
   "source": [
    "\"rate is %s\" % 3.234"
   ]
  },
  {
   "cell_type": "code",
   "execution_count": 17,
   "metadata": {},
   "outputs": [
    {
     "output_type": "execute_result",
     "data": {
      "text/plain": [
       "'Error is 98%.'"
      ]
     },
     "metadata": {},
     "execution_count": 17
    }
   ],
   "source": [
    "\"Error is %d%%.\" % 98"
   ]
  },
  {
   "source": [
    "## 문자열: 포맷 코드와 숫자 함께 사용하기"
   ],
   "cell_type": "markdown",
   "metadata": {}
  },
  {
   "cell_type": "code",
   "execution_count": 13,
   "metadata": {},
   "outputs": [
    {
     "output_type": "execute_result",
     "data": {
      "text/plain": [
       "'        hi'"
      ]
     },
     "metadata": {},
     "execution_count": 13
    }
   ],
   "source": [
    "# 1. 정렬과 공백\n",
    "\"%10s\" % \"hi\""
   ]
  },
  {
   "cell_type": "code",
   "execution_count": 14,
   "metadata": {},
   "outputs": [
    {
     "output_type": "execute_result",
     "data": {
      "text/plain": [
       "'hi        jane.'"
      ]
     },
     "metadata": {},
     "execution_count": 14
    }
   ],
   "source": [
    "\"%-10sjane.\" % \"hi\""
   ]
  },
  {
   "cell_type": "code",
   "execution_count": 11,
   "metadata": {},
   "outputs": [
    {
     "output_type": "execute_result",
     "data": {
      "text/plain": [
       "'3.4213'"
      ]
     },
     "metadata": {},
     "execution_count": 11
    }
   ],
   "source": [
    "# 2. 소수점 표현하기\n",
    "\"%0.4f\" % 3.42134234"
   ]
  },
  {
   "cell_type": "code",
   "execution_count": 12,
   "metadata": {},
   "outputs": [
    {
     "output_type": "execute_result",
     "data": {
      "text/plain": [
       "'    3.4213'"
      ]
     },
     "metadata": {},
     "execution_count": 12
    }
   ],
   "source": [
    "\"%10.4f\" % 3.42134234"
   ]
  },
  {
   "source": [
    "## 문자열: format 함수를 사용한 포매팅"
   ],
   "cell_type": "markdown",
   "metadata": {}
  },
  {
   "cell_type": "code",
   "execution_count": 18,
   "metadata": {},
   "outputs": [
    {
     "output_type": "execute_result",
     "data": {
      "text/plain": [
       "'I eat 3 apples'"
      ]
     },
     "metadata": {},
     "execution_count": 18
    }
   ],
   "source": [
    "# 1. 숫자 바로 대입하기\n",
    "\"I eat {0} apples\".format(3)"
   ]
  },
  {
   "cell_type": "code",
   "execution_count": 19,
   "metadata": {},
   "outputs": [
    {
     "output_type": "execute_result",
     "data": {
      "text/plain": [
       "'I eat 3 4 apples'"
      ]
     },
     "metadata": {},
     "execution_count": 19
    }
   ],
   "source": [
    "\"I eat {0} {1} apples\".format(3, 4)"
   ]
  },
  {
   "cell_type": "code",
   "execution_count": 20,
   "metadata": {},
   "outputs": [
    {
     "output_type": "execute_result",
     "data": {
      "text/plain": [
       "'I eat five apples'"
      ]
     },
     "metadata": {},
     "execution_count": 20
    }
   ],
   "source": [
    "# 2. 문자열 바로 대입하기\n",
    "\"I eat {0} apples\".format(\"five\")"
   ]
  },
  {
   "cell_type": "code",
   "execution_count": 21,
   "metadata": {},
   "outputs": [
    {
     "output_type": "execute_result",
     "data": {
      "text/plain": [
       "'I eat five apples from three boxes'"
      ]
     },
     "metadata": {},
     "execution_count": 21
    }
   ],
   "source": [
    "\"I eat {0} apples from {1} boxes\".format(\"five\", \"three\")"
   ]
  },
  {
   "cell_type": "code",
   "execution_count": 22,
   "metadata": {},
   "outputs": [
    {
     "output_type": "execute_result",
     "data": {
      "text/plain": [
       "'I eat 3 apples'"
      ]
     },
     "metadata": {},
     "execution_count": 22
    }
   ],
   "source": [
    "# 3. 숫자 값을 가진 변수로 대입하기\n",
    "number = 3\n",
    "\"I eat {0} apples\".format(number)"
   ]
  },
  {
   "cell_type": "code",
   "execution_count": 23,
   "metadata": {},
   "outputs": [
    {
     "output_type": "execute_result",
     "data": {
      "text/plain": [
       "'I eat 4 apples'"
      ]
     },
     "metadata": {},
     "execution_count": 23
    }
   ],
   "source": [
    "number = 3\n",
    "\"I eat {0} apples\".format(number + 1)"
   ]
  },
  {
   "cell_type": "code",
   "execution_count": 24,
   "metadata": {},
   "outputs": [
    {
     "output_type": "execute_result",
     "data": {
      "text/plain": [
       "'I ate 10 apples. so I was sick for three days.'"
      ]
     },
     "metadata": {},
     "execution_count": 24
    }
   ],
   "source": [
    "# 2개 이상의 값 넣기\n",
    "number = 10\n",
    "day = \"three\"\n",
    "\"I ate {0} apples. so I was sick for {1} days.\".format(number, day)"
   ]
  },
  {
   "cell_type": "code",
   "execution_count": 25,
   "metadata": {},
   "outputs": [
    {
     "output_type": "execute_result",
     "data": {
      "text/plain": [
       "'I ate 10 apples. so I was sick for 3 days.'"
      ]
     },
     "metadata": {},
     "execution_count": 25
    }
   ],
   "source": [
    "# 이름으로 넣기\n",
    "number = 10\n",
    "day = \"three\"\n",
    "\"I ate {number} apples. so I was sick for {day} days.\".format(number=10, day=3)"
   ]
  },
  {
   "cell_type": "code",
   "execution_count": 26,
   "metadata": {},
   "outputs": [
    {
     "output_type": "execute_result",
     "data": {
      "text/plain": [
       "'I ate 10 apples. so I was sick for 3 days.'"
      ]
     },
     "metadata": {},
     "execution_count": 26
    }
   ],
   "source": [
    "# 인덱스와 이름을 혼용해서 넣기\n",
    "number = 10\n",
    "day = \"three\"\n",
    "\"I ate {0} apples. so I was sick for {day} days.\".format(10, day=3)"
   ]
  },
  {
   "cell_type": "code",
   "execution_count": 27,
   "metadata": {},
   "outputs": [
    {
     "output_type": "execute_result",
     "data": {
      "text/plain": [
       "'hi        '"
      ]
     },
     "metadata": {},
     "execution_count": 27
    }
   ],
   "source": [
    "# 왼쪽 정렬\n",
    "\"{0:<10}\".format(\"hi\")"
   ]
  },
  {
   "cell_type": "code",
   "execution_count": 28,
   "metadata": {},
   "outputs": [
    {
     "output_type": "execute_result",
     "data": {
      "text/plain": [
       "'        hi'"
      ]
     },
     "metadata": {},
     "execution_count": 28
    }
   ],
   "source": [
    "# 오른쪽 정렬\n",
    "\"{0:>10}\".format(\"hi\")"
   ]
  },
  {
   "cell_type": "code",
   "execution_count": 29,
   "metadata": {},
   "outputs": [
    {
     "output_type": "execute_result",
     "data": {
      "text/plain": [
       "'    hi    '"
      ]
     },
     "metadata": {},
     "execution_count": 29
    }
   ],
   "source": [
    "# 가운데 정렬\n",
    "\"{0:^10}\".format(\"hi\")"
   ]
  },
  {
   "cell_type": "code",
   "execution_count": 30,
   "metadata": {},
   "outputs": [
    {
     "output_type": "execute_result",
     "data": {
      "text/plain": [
       "'====hi===='"
      ]
     },
     "metadata": {},
     "execution_count": 30
    }
   ],
   "source": [
    "# 공백 채우기\n",
    "\"{0:=^10}\".format(\"hi\")"
   ]
  },
  {
   "cell_type": "code",
   "execution_count": 31,
   "metadata": {},
   "outputs": [
    {
     "output_type": "execute_result",
     "data": {
      "text/plain": [
       "'hi!!!!!!!!'"
      ]
     },
     "metadata": {},
     "execution_count": 31
    }
   ],
   "source": [
    "\"{0:!<10}\".format(\"hi\")"
   ]
  },
  {
   "cell_type": "code",
   "execution_count": 32,
   "metadata": {},
   "outputs": [
    {
     "output_type": "execute_result",
     "data": {
      "text/plain": [
       "'hi              hcit'"
      ]
     },
     "metadata": {},
     "execution_count": 32
    }
   ],
   "source": [
    "# 도전하기\n",
    "\"{0:<10}{1:>10}\".format(\"hi\",'hcit')"
   ]
  },
  {
   "cell_type": "code",
   "execution_count": 33,
   "metadata": {},
   "outputs": [
    {
     "output_type": "execute_result",
     "data": {
      "text/plain": [
       "'3.4213'"
      ]
     },
     "metadata": {},
     "execution_count": 33
    }
   ],
   "source": [
    "# 소수점 표현하기\n",
    "y = 3.42134234\n",
    "\"{0:0.4f}\".format(y)"
   ]
  },
  {
   "cell_type": "code",
   "execution_count": 34,
   "metadata": {},
   "outputs": [
    {
     "output_type": "execute_result",
     "data": {
      "text/plain": [
       "'    3.4213'"
      ]
     },
     "metadata": {},
     "execution_count": 34
    }
   ],
   "source": [
    "y = 3.42134234\n",
    "\"{0:10.4f}\".format(y)"
   ]
  },
  {
   "cell_type": "code",
   "execution_count": 35,
   "metadata": {},
   "outputs": [
    {
     "output_type": "execute_result",
     "data": {
      "text/plain": [
       "'{ and }'"
      ]
     },
     "metadata": {},
     "execution_count": 35
    }
   ],
   "source": [
    "# { 또는 } 문자 표현하기\n",
    "\"{{ and }}\".format()"
   ]
  },
  {
   "source": [
    "## 문자열: f 문자열 포매팅"
   ],
   "cell_type": "markdown",
   "metadata": {}
  },
  {
   "cell_type": "code",
   "execution_count": 36,
   "metadata": {},
   "outputs": [
    {
     "output_type": "execute_result",
     "data": {
      "text/plain": [
       "'나의 이름은 홍길동입니다. 나이는 30입니다.'"
      ]
     },
     "metadata": {},
     "execution_count": 36
    }
   ],
   "source": [
    "name = \"홍길동\"\n",
    "age = 30\n",
    "f\"나의 이름은 {name}입니다. 나이는 {age}입니다.\""
   ]
  },
  {
   "cell_type": "code",
   "execution_count": 37,
   "metadata": {},
   "outputs": [
    {
     "output_type": "execute_result",
     "data": {
      "text/plain": [
       "'나는 내년이면 31살이 된다.'"
      ]
     },
     "metadata": {},
     "execution_count": 37
    }
   ],
   "source": [
    "age = 30\n",
    "f\"나는 내년이면 {age+1}살이 된다.\""
   ]
  },
  {
   "cell_type": "code",
   "execution_count": 38,
   "metadata": {},
   "outputs": [
    {
     "output_type": "execute_result",
     "data": {
      "text/plain": [
       "'나의 이름은 홍길동입니다. 나이는 30입니다.'"
      ]
     },
     "metadata": {},
     "execution_count": 38
    }
   ],
   "source": [
    "# 딕셔너리는 f 문자열 포매팅에서 다음과 같이 사용\n",
    "d = {\"name\": \"홍길동\", \"age\": 30}\n",
    "f'나의 이름은 {d[\"name\"]}입니다. 나이는 {d[\"age\"]}입니다.'"
   ]
  },
  {
   "cell_type": "code",
   "execution_count": 39,
   "metadata": {},
   "outputs": [
    {
     "output_type": "execute_result",
     "data": {
      "text/plain": [
       "'hi        '"
      ]
     },
     "metadata": {},
     "execution_count": 39
    }
   ],
   "source": [
    "# 정렬\n",
    "f'{\"hi\":<10}'  # 왼쪽 정렬"
   ]
  },
  {
   "cell_type": "code",
   "execution_count": 40,
   "metadata": {},
   "outputs": [
    {
     "output_type": "execute_result",
     "data": {
      "text/plain": [
       "'        hi'"
      ]
     },
     "metadata": {},
     "execution_count": 40
    }
   ],
   "source": [
    "f'{\"hi\":>10}'  # 오른쪽 정렬"
   ]
  },
  {
   "cell_type": "code",
   "execution_count": 41,
   "metadata": {},
   "outputs": [
    {
     "output_type": "execute_result",
     "data": {
      "text/plain": [
       "'    hi    '"
      ]
     },
     "metadata": {},
     "execution_count": 41
    }
   ],
   "source": [
    "f'{\"hi\":^10}'  # 가운데 정렬"
   ]
  },
  {
   "cell_type": "code",
   "execution_count": 42,
   "metadata": {},
   "outputs": [
    {
     "output_type": "execute_result",
     "data": {
      "text/plain": [
       "'3.4213'"
      ]
     },
     "metadata": {},
     "execution_count": 42
    }
   ],
   "source": [
    "y = 3.42134234\n",
    "f\"{y:0.4f}\"  # 소수점 4자리까지만 표현"
   ]
  },
  {
   "cell_type": "code",
   "execution_count": 43,
   "metadata": {},
   "outputs": [
    {
     "output_type": "execute_result",
     "data": {
      "text/plain": [
       "'    3.4213'"
      ]
     },
     "metadata": {},
     "execution_count": 43
    }
   ],
   "source": [
    "y = 3.42134234\n",
    "f\"{y:10.4f}\"  # 소수점 4자리까지 표현하고 총 자리수를 10으로 맞춤"
   ]
  },
  {
   "cell_type": "code",
   "execution_count": 44,
   "metadata": {},
   "outputs": [
    {
     "output_type": "execute_result",
     "data": {
      "text/plain": [
       "'{ and }'"
      ]
     },
     "metadata": {},
     "execution_count": 44
    }
   ],
   "source": [
    "# { } 문자를 표시\n",
    "f\"{{ and }}\""
   ]
  },
  {
   "source": [
    "## 문자열: 관련 내장 함수들"
   ],
   "cell_type": "markdown",
   "metadata": {}
  },
  {
   "cell_type": "code",
   "execution_count": 45,
   "metadata": {},
   "outputs": [
    {
     "output_type": "execute_result",
     "data": {
      "text/plain": [
       "2"
      ]
     },
     "metadata": {},
     "execution_count": 45
    }
   ],
   "source": [
    "# 문자 개수 세기(count)\n",
    "a = \"hobby\"\n",
    "a.count(\"b\")"
   ]
  },
  {
   "cell_type": "code",
   "execution_count": 46,
   "metadata": {},
   "outputs": [
    {
     "output_type": "execute_result",
     "data": {
      "text/plain": [
       "14"
      ]
     },
     "metadata": {},
     "execution_count": 46
    }
   ],
   "source": [
    "# 위치 알려주기1(find)\n",
    "a = \"Python is the best choice\"\n",
    "a.find(\"b\")"
   ]
  },
  {
   "cell_type": "code",
   "execution_count": 53,
   "metadata": {},
   "outputs": [
    {
     "output_type": "execute_result",
     "data": {
      "text/plain": [
       "-1"
      ]
     },
     "metadata": {},
     "execution_count": 53
    }
   ],
   "source": [
    "a = \"Python is the best choice\"\n",
    "a.find(\"k\")  # what value?"
   ]
  },
  {
   "cell_type": "code",
   "execution_count": 50,
   "metadata": {},
   "outputs": [
    {
     "output_type": "execute_result",
     "data": {
      "text/plain": [
       "8"
      ]
     },
     "metadata": {},
     "execution_count": 50
    }
   ],
   "source": [
    "# 위치 알려주기2(index)\n",
    "a = \"Life is too short\"\n",
    "a.index(\"t\")"
   ]
  },
  {
   "cell_type": "code",
   "execution_count": 52,
   "metadata": {},
   "outputs": [
    {
     "output_type": "error",
     "ename": "ValueError",
     "evalue": "substring not found",
     "traceback": [
      "\u001b[1;31m---------------------------------------------------------------------------\u001b[0m",
      "\u001b[1;31mValueError\u001b[0m                                Traceback (most recent call last)",
      "\u001b[1;32m<ipython-input-52-57e8b5cb632c>\u001b[0m in \u001b[0;36m<module>\u001b[1;34m\u001b[0m\n\u001b[0;32m      1\u001b[0m \u001b[0ma\u001b[0m \u001b[1;33m=\u001b[0m \u001b[1;34m\"Life is too short\"\u001b[0m\u001b[1;33m\u001b[0m\u001b[1;33m\u001b[0m\u001b[0m\n\u001b[1;32m----> 2\u001b[1;33m \u001b[0ma\u001b[0m\u001b[1;33m.\u001b[0m\u001b[0mindex\u001b[0m\u001b[1;33m(\u001b[0m\u001b[1;34m\"k\"\u001b[0m\u001b[1;33m)\u001b[0m\u001b[1;33m\u001b[0m\u001b[1;33m\u001b[0m\u001b[0m\n\u001b[0m",
      "\u001b[1;31mValueError\u001b[0m: substring not found"
     ]
    }
   ],
   "source": [
    "a = \"Life is too short\"\n",
    "a.index(\"k\") # k 존재하지 않음"
   ]
  },
  {
   "cell_type": "code",
   "execution_count": 54,
   "metadata": {},
   "outputs": [
    {
     "output_type": "execute_result",
     "data": {
      "text/plain": [
       "'a,b,c,d'"
      ]
     },
     "metadata": {},
     "execution_count": 54
    }
   ],
   "source": [
    "# 문자열 삽입(join)\n",
    "\",\".join(\"abcd\")"
   ]
  },
  {
   "cell_type": "code",
   "execution_count": 55,
   "metadata": {},
   "outputs": [
    {
     "output_type": "execute_result",
     "data": {
      "text/plain": [
       "'a,b,c,d'"
      ]
     },
     "metadata": {},
     "execution_count": 55
    }
   ],
   "source": [
    "\",\".join([\"a\", \"b\", \"c\", \"d\"])"
   ]
  },
  {
   "cell_type": "code",
   "execution_count": 56,
   "metadata": {},
   "outputs": [
    {
     "output_type": "execute_result",
     "data": {
      "text/plain": [
       "'HI'"
      ]
     },
     "metadata": {},
     "execution_count": 56
    }
   ],
   "source": [
    "# 소문자를 대문자로 바꾸기(upper)\n",
    "a = \"hi\"\n",
    "a.upper()"
   ]
  },
  {
   "cell_type": "code",
   "execution_count": 58,
   "metadata": {},
   "outputs": [
    {
     "output_type": "execute_result",
     "data": {
      "text/plain": [
       "'iot'"
      ]
     },
     "metadata": {},
     "execution_count": 58
    }
   ],
   "source": [
    "# 대문자를 소문자로 바꾸기(lower)\n",
    "a = \"IoT\"\n",
    "a.lower()"
   ]
  },
  {
   "cell_type": "code",
   "execution_count": 59,
   "metadata": {},
   "outputs": [
    {
     "output_type": "execute_result",
     "data": {
      "text/plain": [
       "'hi '"
      ]
     },
     "metadata": {},
     "execution_count": 59
    }
   ],
   "source": [
    "# 왼쪽 공백 지우기(lstrip)\n",
    "a = \" hi \"\n",
    "a.lstrip()"
   ]
  },
  {
   "cell_type": "code",
   "execution_count": 60,
   "metadata": {},
   "outputs": [
    {
     "output_type": "execute_result",
     "data": {
      "text/plain": [
       "' hi'"
      ]
     },
     "metadata": {},
     "execution_count": 60
    }
   ],
   "source": [
    "# 오른쪽 공백 지우기(rstrip)\n",
    "a = \" hi \"\n",
    "a.rstrip()"
   ]
  },
  {
   "cell_type": "code",
   "execution_count": 61,
   "metadata": {},
   "outputs": [
    {
     "output_type": "execute_result",
     "data": {
      "text/plain": [
       "'hi'"
      ]
     },
     "metadata": {},
     "execution_count": 61
    }
   ],
   "source": [
    "# 양쪽 공백 지우기(strip)\n",
    "a = \" hi \"\n",
    "a.strip()"
   ]
  },
  {
   "cell_type": "code",
   "execution_count": 62,
   "metadata": {},
   "outputs": [
    {
     "output_type": "execute_result",
     "data": {
      "text/plain": [
       "'Your leg is too short'"
      ]
     },
     "metadata": {},
     "execution_count": 62
    }
   ],
   "source": [
    "# 문자열 바꾸기(replace)\n",
    "a = \"Life is too short\"\n",
    "a.replace(\"Life\", \"Your leg\")"
   ]
  },
  {
   "cell_type": "code",
   "execution_count": 64,
   "metadata": {},
   "outputs": [
    {
     "output_type": "execute_result",
     "data": {
      "text/plain": [
       "['Life', 'is', 'too', 'short']"
      ]
     },
     "metadata": {},
     "execution_count": 64
    }
   ],
   "source": [
    "# 문자열 나누기(split) -> 리스트로 변환하여 반환\n",
    "a = \"Life is too short\"\n",
    "a.split()"
   ]
  },
  {
   "cell_type": "code",
   "execution_count": 65,
   "metadata": {},
   "outputs": [
    {
     "output_type": "execute_result",
     "data": {
      "text/plain": [
       "['a', 'b', 'c', 'd']"
      ]
     },
     "metadata": {},
     "execution_count": 65
    }
   ],
   "source": [
    "b = \"a:b:c:d\"\n",
    "b.split(\":\")"
   ]
  },
  {
   "cell_type": "code",
   "execution_count": 66,
   "metadata": {},
   "outputs": [
    {
     "output_type": "execute_result",
     "data": {
      "text/plain": [
       "'!!!python!!!'"
      ]
     },
     "metadata": {},
     "execution_count": 66
    }
   ],
   "source": [
    "# format 함수 또는 f 문자열 포매팅을 이용해서 '!!!python!!!' 문자열을 출력해보시오.\n",
    "\"{0:!^12}\".format(\"python\")"
   ]
  },
  {
   "cell_type": "code",
   "execution_count": 67,
   "metadata": {},
   "outputs": [
    {
     "output_type": "execute_result",
     "data": {
      "text/plain": [
       "'!!!python!!!'"
      ]
     },
     "metadata": {},
     "execution_count": 67
    }
   ],
   "source": [
    "# F 문자열 이용\n",
    "f'{\"python\":!^12}'"
   ]
  }
 ]
}